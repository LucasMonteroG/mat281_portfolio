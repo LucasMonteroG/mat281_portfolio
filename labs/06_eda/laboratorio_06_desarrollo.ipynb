{
 "cells": [
  {
   "cell_type": "markdown",
   "metadata": {},
   "source": [
    "<img src=\"images/usm.jpg\" width=\"480\" height=\"240\" align=\"left\"/>"
   ]
  },
  {
   "cell_type": "markdown",
   "metadata": {},
   "source": [
    "# MAT281 - Laboratorio N°06\n",
    "\n",
    "## Objetivos de la clase\n",
    "\n",
    "* Reforzar los conceptos básicos del E.D.A.."
   ]
  },
  {
   "cell_type": "markdown",
   "metadata": {},
   "source": [
    "## Contenidos\n",
    "\n",
    "* [Problema 01](#p1)\n"
   ]
  },
  {
   "cell_type": "markdown",
   "metadata": {},
   "source": [
    "## Problema 01\n",
    "<img src=\"./images/logo_iris.jpg\" width=\"360\" height=\"360\" align=\"center\"/>"
   ]
  },
  {
   "cell_type": "markdown",
   "metadata": {},
   "source": [
    "El **Iris dataset** es un conjunto de datos que contine una  muestras de tres especies de Iris (Iris setosa, Iris virginica e Iris versicolor). Se midió cuatro rasgos de cada muestra: el largo y ancho del sépalo y pétalo, en centímetros.\n",
    "\n",
    "Lo primero es cargar el conjunto de datos y ver las primeras filas que lo componen:"
   ]
  },
  {
   "cell_type": "code",
   "execution_count": 1,
   "metadata": {},
   "outputs": [],
   "source": [
    "# librerias\n",
    " \n",
    "import os\n",
    "import numpy as np\n",
    "import pandas as pd\n",
    "\n",
    "import matplotlib.pyplot as plt\n",
    "import seaborn as sns \n",
    "pd.set_option('display.max_columns', 500)  # Ver más columnas de los dataframes\n",
    "\n",
    "\n",
    "# Ver gráficos de matplotlib en jupyter notebook/lab\n",
    "%matplotlib inline"
   ]
  },
  {
   "cell_type": "code",
   "execution_count": 2,
   "metadata": {},
   "outputs": [
    {
     "data": {
      "text/html": [
       "<div>\n",
       "<style scoped>\n",
       "    .dataframe tbody tr th:only-of-type {\n",
       "        vertical-align: middle;\n",
       "    }\n",
       "\n",
       "    .dataframe tbody tr th {\n",
       "        vertical-align: top;\n",
       "    }\n",
       "\n",
       "    .dataframe thead th {\n",
       "        text-align: right;\n",
       "    }\n",
       "</style>\n",
       "<table border=\"1\" class=\"dataframe\">\n",
       "  <thead>\n",
       "    <tr style=\"text-align: right;\">\n",
       "      <th></th>\n",
       "      <th>sepalLength</th>\n",
       "      <th>sepalWidth</th>\n",
       "      <th>petalLength</th>\n",
       "      <th>petalWidth</th>\n",
       "      <th>species</th>\n",
       "    </tr>\n",
       "  </thead>\n",
       "  <tbody>\n",
       "    <tr>\n",
       "      <th>0</th>\n",
       "      <td>4.4</td>\n",
       "      <td>3.2</td>\n",
       "      <td>1.3</td>\n",
       "      <td>3.0</td>\n",
       "      <td>setosa</td>\n",
       "    </tr>\n",
       "    <tr>\n",
       "      <th>1</th>\n",
       "      <td>7.2</td>\n",
       "      <td>3.6</td>\n",
       "      <td>6.1</td>\n",
       "      <td>2.5</td>\n",
       "      <td>virginica</td>\n",
       "    </tr>\n",
       "    <tr>\n",
       "      <th>2</th>\n",
       "      <td>6.3</td>\n",
       "      <td>3.3</td>\n",
       "      <td>6.0</td>\n",
       "      <td>2.5</td>\n",
       "      <td>VIRGINICA</td>\n",
       "    </tr>\n",
       "    <tr>\n",
       "      <th>3</th>\n",
       "      <td>6.7</td>\n",
       "      <td>3.3</td>\n",
       "      <td>5.7</td>\n",
       "      <td>2.5</td>\n",
       "      <td>virginica</td>\n",
       "    </tr>\n",
       "    <tr>\n",
       "      <th>4</th>\n",
       "      <td>6.3</td>\n",
       "      <td>3.4</td>\n",
       "      <td>5.6</td>\n",
       "      <td>2.4</td>\n",
       "      <td>virginica</td>\n",
       "    </tr>\n",
       "  </tbody>\n",
       "</table>\n",
       "</div>"
      ],
      "text/plain": [
       "   sepalLength  sepalWidth  petalLength  petalWidth     species\n",
       "0          4.4         3.2          1.3         3.0      setosa\n",
       "1          7.2         3.6          6.1         2.5   virginica\n",
       "2          6.3         3.3          6.0         2.5   VIRGINICA\n",
       "3          6.7         3.3          5.7         2.5   virginica\n",
       "4          6.3         3.4          5.6         2.4   virginica"
      ]
     },
     "execution_count": 2,
     "metadata": {},
     "output_type": "execute_result"
    }
   ],
   "source": [
    "# cargar datos\n",
    "df = pd.read_csv(os.path.join(\"data\",\"iris_contaminados.csv\"))\n",
    "df.columns = ['sepalLength',\n",
    "                  'sepalWidth',\n",
    "                  'petalLength',\n",
    "                  'petalWidth',\n",
    "                  'species']\n",
    "\n",
    "df.head() "
   ]
  },
  {
   "cell_type": "markdown",
   "metadata": {},
   "source": [
    "### Bases del experimento\n",
    "\n",
    "Lo primero es identificar las variables que influyen en el estudio y la naturaleza de esta.\n",
    "\n",
    "* **species**: \n",
    "    * Descripción: Nombre de la especie de Iris. \n",
    "    * Tipo de dato: *string*\n",
    "    * Limitantes: solo existen tres tipos (setosa, virginia y versicolor).\n",
    "* **sepalLength**: \n",
    "    * Descripción: largo del sépalo. \n",
    "    * Tipo de dato: *integer*. \n",
    "    * Limitantes: los valores se encuentran entre 4.0 y 7.0 cm.\n",
    "* **sepalWidth**: \n",
    "    * Descripción: ancho del sépalo. \n",
    "    * Tipo de dato: *integer*. \n",
    "    * Limitantes: los valores se encuentran entre 2.0 y 4.5 cm.\n",
    "* **petalLength**: \n",
    "    * Descripción: largo del pétalo. \n",
    "    * Tipo de dato: *integer*. \n",
    "    * Limitantes: los valores se encuentran entre 1.0 y 7.0 cm.\n",
    "* **petalWidth**: \n",
    "    * Descripción: ancho del pépalo. \n",
    "    * Tipo de dato: *integer*. \n",
    "    * Limitantes: los valores se encuentran entre 0.1 y 2.5 cm."
   ]
  },
  {
   "cell_type": "markdown",
   "metadata": {},
   "source": [
    "Su objetivo es realizar un correcto **E.D.A.**, para esto debe seguir las siguientes intrucciones:"
   ]
  },
  {
   "cell_type": "markdown",
   "metadata": {},
   "source": [
    "1. Realizar un conteo de elementos de la columna **species** y corregir según su criterio. Reemplace por \"default\" los valores nan.."
   ]
  },
  {
   "cell_type": "code",
   "execution_count": 8,
   "metadata": {},
   "outputs": [
    {
     "data": {
      "text/plain": [
       "array(['setosa', ' virginica', 'VIRGINICA', 'virginica', 'virginica ',\n",
       "       'versicolor', 'Versicolor', 'VERSICOLOR', nan, 'Setosa', 'SETOSA'],\n",
       "      dtype=object)"
      ]
     },
     "execution_count": 8,
     "metadata": {},
     "output_type": "execute_result"
    }
   ],
   "source": [
    "df['species'].unique()                                #Reviso los valores únicos que existen en la columna especies"
   ]
  },
  {
   "cell_type": "code",
   "execution_count": 12,
   "metadata": {},
   "outputs": [
    {
     "data": {
      "text/plain": [
       "array(['setosa', 'virginica', 'versicolor', 'default'], dtype=object)"
      ]
     },
     "execution_count": 12,
     "metadata": {},
     "output_type": "execute_result"
    }
   ],
   "source": [
    "df.species = df.species.str.lower().str.strip()      #Fuerzo a la columna especies a ser sólo minúsculas\n",
    "df.loc[df['species'].isnull(),'species'] = 'default' #Cambio los valores NaN por default\n",
    "df['species'].unique()                               #Reviso los valores únicos que existen en la columna especies"
   ]
  },
  {
   "cell_type": "markdown",
   "metadata": {},
   "source": [
    "2. Realizar un gráfico de box-plot sobre el largo y ancho de los petalos y sépalos. Reemplace por **0** los valores nan."
   ]
  },
  {
   "cell_type": "code",
   "execution_count": 13,
   "metadata": {},
   "outputs": [
    {
     "data": {
      "text/plain": [
       "<matplotlib.axes._subplots.AxesSubplot at 0x7ff7cd7484c0>"
      ]
     },
     "execution_count": 13,
     "metadata": {},
     "output_type": "execute_result"
    },
    {
     "data": {
      "image/png": "[encoded data removed]",
      "text/plain": [
       "<Figure size 432x288 with 1 Axes>"
      ]
     },
     "metadata": {
      "needs_background": "light"
     },
     "output_type": "display_data"
    }
   ],
   "source": [
    "df.loc[df['sepalLength'].isnull(),'sepalLength'] = '0'                      #Cambio los valores NaN por 0\n",
    "df.loc[df['sepalWidth'].isnull(),'sepalWidth'] = '0'                        #Cambio los valores NaN por 0\n",
    "df.loc[df['petalLength'].isnull(),'petalLength'] = '0'                      #Cambio los valores NaN por 0\n",
    "df.loc[df['petalWidth'].isnull(),'petalWidth'] = '0'                        #Cambio los valores NaN por 0\n",
    "\n",
    "stats_df = df.drop(['species'], axis=1) # Quitamos de nuestra data lo que \n",
    "                                                                            # no necesitamos\n",
    " \n",
    "# New boxplot using stats_df\n",
    "sns.boxplot(data=stats_df)                                                  # Utilizamos Seaborn con cajas"
   ]
  },
  {
   "cell_type": "markdown",
   "metadata": {},
   "source": [
    "3. Anteriormente se define un rango de valores válidos para los valores del largo y ancho de los petalos y sépalos. Agregue una columna denominada **label**  que identifique cuál de estos valores esta fuera del rango de valores válidos."
   ]
  },
  {
   "cell_type": "code",
   "execution_count": 15,
   "metadata": {},
   "outputs": [
    {
     "data": {
      "text/html": [
       "<div>\n",
       "<style scoped>\n",
       "    .dataframe tbody tr th:only-of-type {\n",
       "        vertical-align: middle;\n",
       "    }\n",
       "\n",
       "    .dataframe tbody tr th {\n",
       "        vertical-align: top;\n",
       "    }\n",
       "\n",
       "    .dataframe thead th {\n",
       "        text-align: right;\n",
       "    }\n",
       "</style>\n",
       "<table border=\"1\" class=\"dataframe\">\n",
       "  <thead>\n",
       "    <tr style=\"text-align: right;\">\n",
       "      <th></th>\n",
       "      <th>sepalLength</th>\n",
       "      <th>sepalWidth</th>\n",
       "      <th>petalLength</th>\n",
       "      <th>petalWidth</th>\n",
       "      <th>species</th>\n",
       "    </tr>\n",
       "  </thead>\n",
       "  <tbody>\n",
       "    <tr>\n",
       "      <th>2</th>\n",
       "      <td>6.3</td>\n",
       "      <td>3.3</td>\n",
       "      <td>6.0</td>\n",
       "      <td>2.5</td>\n",
       "      <td>virginica</td>\n",
       "    </tr>\n",
       "    <tr>\n",
       "      <th>3</th>\n",
       "      <td>6.7</td>\n",
       "      <td>3.3</td>\n",
       "      <td>5.7</td>\n",
       "      <td>2.5</td>\n",
       "      <td>virginica</td>\n",
       "    </tr>\n",
       "    <tr>\n",
       "      <th>4</th>\n",
       "      <td>6.3</td>\n",
       "      <td>3.4</td>\n",
       "      <td>5.6</td>\n",
       "      <td>2.4</td>\n",
       "      <td>virginica</td>\n",
       "    </tr>\n",
       "    <tr>\n",
       "      <th>5</th>\n",
       "      <td>6.7</td>\n",
       "      <td>3.1</td>\n",
       "      <td>5.6</td>\n",
       "      <td>2.4</td>\n",
       "      <td>virginica</td>\n",
       "    </tr>\n",
       "    <tr>\n",
       "      <th>6</th>\n",
       "      <td>5.8</td>\n",
       "      <td>2.8</td>\n",
       "      <td>5.1</td>\n",
       "      <td>2.4</td>\n",
       "      <td>virginica</td>\n",
       "    </tr>\n",
       "  </tbody>\n",
       "</table>\n",
       "</div>"
      ],
      "text/plain": [
       "   sepalLength  sepalWidth  petalLength  petalWidth    species\n",
       "2          6.3         3.3          6.0         2.5  virginica\n",
       "3          6.7         3.3          5.7         2.5  virginica\n",
       "4          6.3         3.4          5.6         2.4  virginica\n",
       "5          6.7         3.1          5.6         2.4  virginica\n",
       "6          5.8         2.8          5.1         2.4  virginica"
      ]
     },
     "execution_count": 15,
     "metadata": {},
     "output_type": "execute_result"
    }
   ],
   "source": [
    "df['sepalLength'] = df['sepalLength'].astype(float)                 #Cambiamos los valores a flotantes\n",
    "df['sepalWidth'] = df['sepalWidth'].astype(float)                   #Cambiamos los valores a flotantes\n",
    "df['petalLength'] = df['petalLength'].astype(float)                 #Cambiamos los valores a flotantes\n",
    "df['petalWidth'] = df['petalWidth'].astype(float)                   #Cambiamos los valores a flotantes\n",
    "\n",
    "df_sL_inf =  df['sepalLength']>=4                    #Tomamos los valores mayores o iguales a 4\n",
    "df_sL_sup =  df['sepalLength']<=7                    #Tomamos los valores menores o iguales a 7\n",
    "df_sW_inf =  df['sepalWidth']>=2                     #Tomamos los valores mayores o iguales a 2\n",
    "df_sW_sup =  df['sepalWidth']<=4.5                   #Tomamos los valores menores o iguales a 4.5\n",
    "df_pL_inf =  df['petalLength']>=1                    #Tomamos los valores mayores o iguales a 1\n",
    "df_pL_sup =  df['petalLength']<=7                    #Tomamos los valores menores o iguales a 7\n",
    "df_pW_inf =  df['petalWidth']>=0.1                   #Tomamos los valores mayores o iguales a 0.1\n",
    "df_pW_sup =  df['petalWidth']<=2.5                   #Tomamos los valores menores o iguales a 2.5\n",
    "\n",
    "mask_df_sL = df_sL_inf & df_sL_sup             #Mezclamos las mascaras en una unica mascara\n",
    "mask_df_sW = df_sW_inf & df_sW_sup             #Mezclamos las mascaras en una unica mascara\n",
    "mask_df_pL = df_pL_inf & df_pL_sup             #Mezclamos las mascaras en una unica mascara\n",
    "mask_df_pW = df_pW_inf & df_pW_sup             #Mezclamos las mascaras en una unica mascara\n",
    "\n",
    "df_filtrado = df[mask_df_sL & mask_df_sW & mask_df_pL & mask_df_pW]  #Aplicamos las mascaras a nuestro data\n",
    "df_filtrado.head()"
   ]
  },
  {
   "cell_type": "markdown",
   "metadata": {},
   "source": [
    "4. Realice un gráfico de *sepalLength* vs *petalLength* y otro de *sepalWidth* vs *petalWidth* categorizados por la etiqueta **label**. Concluya sus resultados."
   ]
  },
  {
   "cell_type": "code",
   "execution_count": 19,
   "metadata": {},
   "outputs": [
    {
     "data": {
      "text/plain": [
       "<matplotlib.axes._subplots.AxesSubplot at 0x7ff7d111ed90>"
      ]
     },
     "execution_count": 19,
     "metadata": {},
     "output_type": "execute_result"
    },
    {
     "data": {
      "image/png": "[encoded data removed]",
      "text/plain": [
       "<Figure size 432x288 with 1 Axes>"
      ]
     },
     "metadata": {
      "needs_background": "light"
     },
     "output_type": "display_data"
    }
   ],
   "source": [
    "palette = sns.color_palette(\"hls\", 6)\n",
    "\n",
    "sns.lineplot(                                  # Utilizo Seaborn con linea\n",
    "    x='sepalLength',                           # En x utilizamos el largo del sepalo\n",
    "    y='petalLength',                           # En y utilizamos el largo del petalo\n",
    "    #hue='Generation',# color por Generation   \n",
    "    data=df_filtrado,                          # Últilizamos nuestra data\n",
    "    ci = None,                  \n",
    "    palette=palette                            \n",
    ")"
   ]
  },
  {
   "cell_type": "code",
   "execution_count": 20,
   "metadata": {},
   "outputs": [
    {
     "data": {
      "text/plain": [
       "<matplotlib.axes._subplots.AxesSubplot at 0x7ff7d12440d0>"
      ]
     },
     "execution_count": 20,
     "metadata": {},
     "output_type": "execute_result"
    },
    {
     "data": {
      "image/png": "[encoded data removed]",
      "text/plain": [
       "<Figure size 432x288 with 1 Axes>"
      ]
     },
     "metadata": {
      "needs_background": "light"
     },
     "output_type": "display_data"
    }
   ],
   "source": [
    "palette = sns.color_palette(\"hls\", 6)\n",
    "\n",
    "sns.lineplot(                                  # Utilizo Seaborn con linea\n",
    "    x='sepalWidth',                            # En x utilizamos el ancho del sepalo\n",
    "    y='petalWidth',                            # En y utilizamos el ancho del petalo\n",
    "    #hue='Generation',# color por Generation   \n",
    "    data=df_filtrado,                          # Últilizamos nuestra data\n",
    "    ci = None,                  \n",
    "    palette=palette                            \n",
    ")"
   ]
  },
  {
   "cell_type": "markdown",
   "metadata": {},
   "source": [
    "5. Filtre los datos válidos y realice un gráfico de *sepalLength* vs *petalLength* categorizados por la etiqueta **species**."
   ]
  },
  {
   "cell_type": "code",
   "execution_count": 25,
   "metadata": {},
   "outputs": [
    {
     "data": {
      "text/plain": [
       "<matplotlib.axes._subplots.AxesSubplot at 0x7ff7d1669b80>"
      ]
     },
     "execution_count": 25,
     "metadata": {},
     "output_type": "execute_result"
    },
    {
     "data": {
      "image/png": "[encoded data removed]",
      "text/plain": [
       "<Figure size 432x288 with 1 Axes>"
      ]
     },
     "metadata": {
      "needs_background": "light"
     },
     "output_type": "display_data"
    }
   ],
   "source": [
    "df_set =  df['species'] == 'setosa'\n",
    "df_vir =  df['species'] == 'virginica'\n",
    "df_col =  df['species'] == 'versicolor'\n",
    "df_def =  df['species'] == 'default' \n",
    "\n",
    "sns.lineplot(                                  # Utilizo Seaborn con linea\n",
    "    x='sepalLength',                            # En x utilizamos el largo del sepalo\n",
    "    y='petalLength',                            # En y utilizamos el largo del petalo\n",
    "    #hue='Generation',# color por Generation   \n",
    "    data=df[df_set],                          # Últilizamos nuestra data de setosa\n",
    "    ci = None,                  \n",
    "    palette=sns.color_palette(\"hls\", 1)                           \n",
    ")\n",
    "\n",
    "sns.lineplot(                                  # Utilizo Seaborn con linea\n",
    "    x='sepalLength',                            # En x utilizamos el largo del sepalo\n",
    "    y='petalLength',                            # En y utilizamos el largo del petalo\n",
    "    #hue='Generation',# color por Generation   \n",
    "    data=df[df_vir],                          # Últilizamos nuestra data de virginica\n",
    "    ci = None,                  \n",
    "    palette=sns.color_palette(\"hls\", 2)                           \n",
    ")\n",
    "\n",
    "sns.lineplot(                                  # Utilizo Seaborn con linea\n",
    "    x='sepalLength',                            # En x utilizamos el largo del sepalo\n",
    "    y='petalLength',                            # En y utilizamos el largo del petalo\n",
    "    #hue='Generation',# color por Generation   \n",
    "    data=df[df_col],                          # Últilizamos nuestra data de versicolor\n",
    "    ci = None,                  \n",
    "    palette=sns.color_palette(\"hls\", 3)                            \n",
    ")\n",
    "\n",
    "sns.lineplot(                                  # Utilizo Seaborn con linea\n",
    "    x='sepalLength',                            # En x utilizamos el largo del sepalo\n",
    "    y='petalLength',                            # En y utilizamos el largo del petalo\n",
    "    #hue='Generation',# color por Generation   \n",
    "    data=df[df_def],                          # Últilizamos nuestra data de default\n",
    "    ci = None,                  \n",
    "    palette=sns.color_palette(\"hls\", 4)                            \n",
    ")"
   ]
  },
  {
   "cell_type": "code",
   "execution_count": null,
   "metadata": {},
   "outputs": [],
   "source": []
  }
 ],
 "metadata": {
  "kernelspec": {
   "display_name": "Python 3",
   "language": "python",
   "name": "python3"
  },
  "language_info": {
   "codemirror_mode": {
    "name": "ipython",
    "version": 3
   },
   "file_extension": ".py",
   "mimetype": "text/x-python",
   "name": "python",
   "nbconvert_exporter": "python",
   "pygments_lexer": "ipython3",
   "version": "3.8.3"
  }
 },
 "nbformat": 4,
 "nbformat_minor": 4
}
