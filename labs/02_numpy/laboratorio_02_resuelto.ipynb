{
 "cells": [
  {
   "cell_type": "markdown",
   "metadata": {},
   "source": [
    "<img src=\"images/usm.jpg\" width=\"480\" height=\"240\" align=\"left\"/>"
   ]
  },
  {
   "cell_type": "markdown",
   "metadata": {},
   "source": [
    "# MAT281 - Laboratorio N°02\n",
    "\n",
    "## Objetivos de la clase\n",
    "\n",
    "* Reforzar los conceptos básicos de numpy."
   ]
  },
  {
   "cell_type": "markdown",
   "metadata": {},
   "source": [
    "## Contenidos\n",
    "\n",
    "* [Problema 01](#p1)\n",
    "* [Problema 02](#p2)\n",
    "* [Problema 03](#p3)"
   ]
  },
  {
   "cell_type": "code",
   "execution_count": 2,
   "metadata": {},
   "outputs": [],
   "source": [
    "import numpy as np"
   ]
  },
  {
   "cell_type": "markdown",
   "metadata": {},
   "source": [
    "<a id='p1'></a>\n",
    "\n",
    "## Problema 01\n",
    "\n",
    "Una **media móvil simple** (SMA) es el promedio de los últimos $k$ datos anteriores, es decir, sea $a_1$,$a_2$,...,$a_n$ un arreglo $n$-dimensional, entonces la SMA se define por:\n",
    "\n",
    "$$sma(k) =\\dfrac{1}{k}(a_{n}+a_{n-1}+...+a_{n-(k-1)}) = \\dfrac{1}{k}\\sum_{i=0}^{k-1}a_{n-i}  $$ \n",
    "\n",
    "\n",
    "Por otro lado podemos definir el SMA con una venta móvil de $n$ si el resultado nos retorna la el promedio ponderado avanzando de la siguiente forma:\n",
    "\n",
    "* $a = [1,2,3,4,5]$, la SMA con una ventana de $n=2$ sería:\n",
    "\n",
    "\n",
    "    * sma(2): [mean(1,2),mean(2,3),mean(3,4)] = [1.5, 2.5, 3.5, 4.5]\n",
    "    * sma(3): [mean(1,2,3),mean(2,3,4),mean(3,4,5)] = [2.,3.,4.]\n",
    "\n",
    "\n",
    "Implemente una función llamada `sma` cuyo input sea un arreglo unidimensional $a$ y un entero $n$, y cuyo ouput retorne el valor de la media móvil simple sobre el arreglo de la siguiente forma:\n",
    "\n",
    "* **Ejemplo**: *sma([5,3,8,10,2,1,5,1,0,2], 2)* = $[4. , 5.5, 9. , 6. , 1.5, 3. , 3. , 0.5, 1. ]$\n",
    "\n",
    "En este caso, se esta calculando el SMA para un arreglo con una ventana de $n=2$.\n",
    "\n",
    "**Hint**: utilice la función `numpy.cumsum`"
   ]
  },
  {
   "cell_type": "code",
   "execution_count": 79,
   "metadata": {},
   "outputs": [],
   "source": [
    "def sma(a:list,n:int)->list:\n",
    "    \n",
    "    \"\"\"\n",
    "    sma(a)\n",
    "\n",
    "    Calcula el promedio de los ultimos n datos anteriores en el arreglo a.\n",
    "\n",
    "    Parameters\n",
    "    ----------\n",
    "    a : Arreglo\n",
    "        Arreglo a calcular sus promedios.\n",
    "    \n",
    "    n : int\n",
    "        Numero de datos anteriores.\n",
    "\n",
    "    Returns\n",
    "    -------\n",
    "    output : list\n",
    "        Arreglo con los promedios.\n",
    "        \n",
    "    Examples\n",
    "    --------\n",
    "    >>> sma([5,3,8,10,2,1,5,1,0,2], 2) =  [4.,5.5,9.,6.,1.5,3.,3.,0.5,1.]\n",
    "    \n",
    "    \"\"\"\n",
    "    import numpy as np            #Importo numpy\n",
    "    aux1=[]                       #Defino un auxiliar1\n",
    "    aux2=[]                       #Defino un auxiliar2\n",
    "    a=np.array(a)                 #Convierto a \"a\" en un arreglo\n",
    "    k=a.size                      #Pido el tamaño del arreglo a\n",
    "    for i in range(0,k-1):        #Comienzo un for para recorrer nuestro arreglo\n",
    "        for j in range (0,n):     #Comienzo un for para recorrer los siguientes elementos de i\n",
    "            aux2.append(a[i+j])   #Agrego el elemento i del arreglo a mi auxiliar2 y los n-1 siguientes\n",
    "        aux1.append(aux2)         #Agrego el auxiliar2 al auxiliar 1\n",
    "        aux2=[]                   #Limpio el auxiliar2\n",
    "    arr=np.array(aux1)            #Convierto al auxiliar1 en un arreglo\n",
    "    return np.mean(arr, axis=1)   #Retorno la el arreglo con la media de cada uno de los arreglos de arr\n"
   ]
  },
  {
   "cell_type": "code",
   "execution_count": 80,
   "metadata": {},
   "outputs": [
    {
     "data": {
      "text/plain": [
       "array([4. , 5.5, 9. , 6. , 1.5, 3. , 3. , 0.5, 1. ])"
      ]
     },
     "execution_count": 80,
     "metadata": {},
     "output_type": "execute_result"
    }
   ],
   "source": [
    "sma([5,3,8,10,2,1,5,1,0,2], 2)"
   ]
  },
  {
   "cell_type": "markdown",
   "metadata": {},
   "source": [
    "<a id='p2'></a>\n",
    "\n",
    "## Problema 02\n",
    "\n",
    "La función **strides($a,n,p$)**, corresponde a transformar un arreglo unidimensional $a$ en una matriz de $n$ columnas, en el cual las filas se van construyendo desfasando la posición del arreglo en $p$ pasos hacia adelante.\n",
    "\n",
    "* Para el arreglo unidimensional $a$ = [ 1,  2,  3,  4,  5,  6,  7,  8,  9, 10], la función strides($a,4,2$), corresponde a crear una matriz de $4$ columnas, cuyos desfaces hacia adelante se hacen de dos en dos. \n",
    "\n",
    "El resultado tendría que ser algo así:$$\\begin{pmatrix}\n",
    " 1& 2 &3 &4 \\\\ \n",
    " 3&  4&5&6 \\\\ \n",
    " 5& 6 &7 &8 \\\\ \n",
    " 7& 8 &9 &10 \\\\ \n",
    "\\end{pmatrix}$$\n",
    "\n",
    "\n",
    "Implemente una función llamada `strides(a,4,2)` cuyo input sea un arreglo unidimensional y retorne la matriz de $4$ columnas, cuyos desfaces hacia adelante se hacen de dos en dos. \n",
    "\n",
    "* **Ejemplo**: *strides($a$,4,2)* =$\\begin{pmatrix}\n",
    " 1& 2 &3 &4 \\\\ \n",
    " 3&  4&5&6 \\\\ \n",
    " 5& 6 &7 &8 \\\\ \n",
    " 7& 8 &9 &10 \\\\ \n",
    "\\end{pmatrix}$\n"
   ]
  },
  {
   "cell_type": "code",
   "execution_count": 96,
   "metadata": {},
   "outputs": [],
   "source": [
    "def strides(a:list,n:int,m:int)->list:\n",
    "    \n",
    "    \"\"\"\n",
    "    strides(a,n,m)\n",
    "\n",
    "    Transforma un arreglo en una matriz.\n",
    "\n",
    "    Parameters\n",
    "    ----------\n",
    "    a : Array\n",
    "        Arreglo a convertir en matriz.\n",
    "        \n",
    "    n : int\n",
    "        Numero de columnas.\n",
    "        \n",
    "    m : int\n",
    "        Tamaño del desfase\n",
    "\n",
    "    Returns\n",
    "    -------\n",
    "    output : list\n",
    "        Matriz.\n",
    "        \n",
    "    Examples\n",
    "    --------\n",
    "    >>> strides(a,4,2) = [[1,2,3,4],[3,4,5,6],[5,6,7,8],[7,8,9,10]]\n",
    "    \"\"\"\n",
    "    import numpy as np            #Importo numpy\n",
    "    aux1=[]                       #Defino un auxiliar1\n",
    "    aux2=[]                       #Defino un auxiliar2\n",
    "    c=0                           #Defino un contador\n",
    "    d=0                           #Defino otro contador\n",
    "    a=np.array(a)                 #Convierto a \"a\" en un arreglo\n",
    "    k=a.size                      #Pido el tamaño del arreglo a\n",
    "    while d<=k-1:                 #Mientras d sea menor o igual que k-1\n",
    "        aux2.append(a[d])         #Al auxiliar 2 le agrego el elemento en la posicion d del arreglo a\n",
    "        c+=1                      #Guardo en c que avanzamos un paso\n",
    "        d+=1                      #Guardo en d que avanzamos un paso\n",
    "        if c==n:                  #Si avanzamos la misma cantidad de pasos que las columnas\n",
    "            aux1.append(aux2)     #Guardamos nuestro auxiliar2 en el auxiliar1\n",
    "            aux2=[]               #Limpiamos el auxiliar2\n",
    "            d=d-m                 #Al contador d le restamos el desfase\n",
    "            c=0                   #Limpiamos el contador c para partir la columna nuevamente\n",
    "    arr=np.array(aux1)            #Convertimos al auxiliar1 en un arreglo\n",
    "    return arr                    #Retornamos la matriz arr"
   ]
  },
  {
   "cell_type": "code",
   "execution_count": 97,
   "metadata": {},
   "outputs": [
    {
     "data": {
      "text/plain": [
       "array([[ 1,  2,  3,  4],\n",
       "       [ 3,  4,  5,  6],\n",
       "       [ 5,  6,  7,  8],\n",
       "       [ 7,  8,  9, 10]])"
      ]
     },
     "execution_count": 97,
     "metadata": {},
     "output_type": "execute_result"
    }
   ],
   "source": [
    "strides([ 1, 2, 3, 4, 5, 6, 7, 8, 9, 10],4,2)"
   ]
  },
  {
   "cell_type": "markdown",
   "metadata": {},
   "source": [
    "<a id='p3'></a>\n",
    "\n",
    "## Problema 03\n",
    "\n",
    "\n",
    "Un **cuadrado mágico** es una matriz de tamaño $n \\times n$ de números enteros positivos tal que \n",
    "la suma de los números por columnas, filas y diagonales principales sea la misma. Usualmente, los números empleados para rellenar las casillas son consecutivos, de 1 a $n^2$, siendo $n$ el número de columnas y filas del cuadrado mágico.\n",
    "\n",
    "Si los números son consecutivos de 1 a $n^2$, la suma de los números por columnas, filas y diagonales principales \n",
    "es igual a : $$M_{n} = \\dfrac{n(n^2+1)}{2}$$\n",
    "Por ejemplo, \n",
    "\n",
    "* $A= \\begin{pmatrix}\n",
    " 4& 9 &2 \\\\ \n",
    " 3&  5&7 \\\\ \n",
    " 8& 1 &6 \n",
    "\\end{pmatrix}$,\n",
    "es un cuadrado mágico.\n",
    "\n",
    "* $B= \\begin{pmatrix}\n",
    " 4& 2 &9 \\\\ \n",
    " 3&  5&7 \\\\ \n",
    " 8& 1 &6 \n",
    "\\end{pmatrix}$, no es un cuadrado mágico.\n",
    "\n",
    "Implemente una función llamada `es_cudrado_magico` cuyo input sea una matriz cuadrada de tamaño $n$ con números consecutivos de $1$ a $n^2$ y cuyo ouput retorne *True* si es un cuadrado mágico o 'False', en caso contrario\n",
    "\n",
    "* **Ejemplo**: *es_cudrado_magico($A$)* = True, *es_cudrado_magico($B$)* = False\n",
    "\n",
    "**Hint**: Cree una función que valide la mariz es cuadrada y  que sus números son consecutivos del 1 a $n^2$."
   ]
  },
  {
   "cell_type": "code",
   "execution_count": 131,
   "metadata": {},
   "outputs": [],
   "source": [
    "def es_cuadrado_magico(a:list)->bool:\n",
    "    \n",
    "    \"\"\"\n",
    "    es_cuadrado_magico(n)\n",
    "\n",
    "    Verifica que a en un cuadrado magico\n",
    "\n",
    "    Parameters\n",
    "    ----------\n",
    "    a : list\n",
    "        Matriz a evaluar.\n",
    "\n",
    "    Returns\n",
    "    -------\n",
    "    output : bool\n",
    "        Veracidad de que a cumple con que es un cuadrado magico.\n",
    "        \n",
    "    Examples\n",
    "    --------\n",
    "    >>> es_cuadrado_magico([[4,9,2],\n",
    "                            [3,5,7], \n",
    "                            [8,1,6]])=True\n",
    "                            \n",
    "    >>> es_cuadrado_magico([[4,2,9],\n",
    "                            [3,5,7], \n",
    "                            [8,1,6]])=False\n",
    "    \"\"\"\n",
    "    import numpy as np            #Importo numpy\n",
    "    a=np.array(a)                 #Convierto a \"a\" en un arreglo\n",
    "    n=a.shape[0]                  #Guardo el numero de filas en n\n",
    "    m=(n/2)*((n*n)+1)             #Calculo M_n y lo guardo en m\n",
    "    aux1=0                        #Defino un auxiliar1\n",
    "    aux2=0                        #Defino un auxiliar2\n",
    "    aux3=0                        #Defino un auxiliar3\n",
    "    aux4=0                        #Defino un auxiliar4\n",
    "    for i in range(0,n):          #Comienzo un for para recorrer una fila\n",
    "        aux3+=a.item(i,i)         #En auxiliar3 guardo los elementos de la diagonal principal\n",
    "        aux4+=a.item(i,n-1-i)     #En auxiliar4 guardo los elementos de la diagonal secundaria\n",
    "        for j in range(0,n):      #Comienzo un for para recorrer una columna\n",
    "            aux1+=a.item(i,j)     #En auxiliar1 guardo los elementos de la j-esima fila\n",
    "            aux2+=a.item(j,i)     #En auxiliar2 guardo los elementos de la j-esima columna\n",
    "        if (aux1!=m)or(aux2!=m):  #Si la suma de los elementos de la j-esima fila o columna no es igual a m \n",
    "            return False          #Entonces a no es un \n",
    "        aux1=0                    #\n",
    "        aux2=0                    #\n",
    "    if (aux3!=m)or(aux4!=m):      #\n",
    "        return False              #\n",
    "    return True                   #"
   ]
  },
  {
   "cell_type": "code",
   "execution_count": 133,
   "metadata": {},
   "outputs": [
    {
     "data": {
      "text/plain": [
       "True"
      ]
     },
     "execution_count": 133,
     "metadata": {},
     "output_type": "execute_result"
    }
   ],
   "source": [
    "a=[[4,9,2],\n",
    "   [3,5,7], \n",
    "   [8,1,6]]\n",
    "es_cuadrado_magico(a)"
   ]
  },
  {
   "cell_type": "code",
   "execution_count": 134,
   "metadata": {},
   "outputs": [
    {
     "data": {
      "text/plain": [
       "False"
      ]
     },
     "execution_count": 134,
     "metadata": {},
     "output_type": "execute_result"
    }
   ],
   "source": [
    "a=[[4,2,9],\n",
    "   [3,5,7], \n",
    "   [8,1,6]]\n",
    "es_cuadrado_magico(a)"
   ]
  },
  {
   "cell_type": "code",
   "execution_count": null,
   "metadata": {},
   "outputs": [],
   "source": []
  }
 ],
 "metadata": {
  "kernelspec": {
   "display_name": "Python 3",
   "language": "python",
   "name": "python3"
  },
  "language_info": {
   "codemirror_mode": {
    "name": "ipython",
    "version": 3
   },
   "file_extension": ".py",
   "mimetype": "text/x-python",
   "name": "python",
   "nbconvert_exporter": "python",
   "pygments_lexer": "ipython3",
   "version": "3.8.3"
  }
 },
 "nbformat": 4,
 "nbformat_minor": 4
}
